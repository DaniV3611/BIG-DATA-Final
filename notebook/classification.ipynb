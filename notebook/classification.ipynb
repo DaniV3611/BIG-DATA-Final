{
 "cells": [
  {
   "cell_type": "code",
   "execution_count": 1,
   "id": "141c7114-1637-40de-8d02-3d976febe55e",
   "metadata": {
    "execution": {
     "iopub.execute_input": "2025-06-04T05:02:40.680646Z",
     "iopub.status.busy": "2025-06-04T05:02:40.680311Z",
     "iopub.status.idle": "2025-06-04T05:03:17.408858Z",
     "shell.execute_reply": "2025-06-04T05:03:17.407953Z",
     "shell.execute_reply.started": "2025-06-04T05:02:40.680616Z"
    },
    "tags": []
   },
   "outputs": [
    {
     "data": {
      "application/vnd.jupyter.widget-view+json": {
       "model_id": "87f78f21d5c64ce3a06172cc32f85ef8",
       "version_major": 2,
       "version_minor": 0
      },
      "text/plain": [
       "VBox()"
      ]
     },
     "metadata": {},
     "output_type": "display_data"
    },
    {
     "name": "stdout",
     "output_type": "stream",
     "text": [
      "Starting Spark application\n"
     ]
    },
    {
     "data": {
      "text/html": [
       "<table>\n<tbody><tr><th>ID</th><th>YARN Application ID</th><th>Kind</th><th>State</th><th>Spark UI</th><th>Driver log</th><th>User</th><th>Current session?</th></tr><tr><td>1</td><td>application_1749011983129_0002</td><td>pyspark</td><td>idle</td><td><a target=\"_blank\" href=\"http://ip-172-31-69-253.ec2.internal:20888/proxy/application_1749011983129_0002/\" class=\"emr-proxy-link j-DQBCCW9O0C3T application_1749011983129_0002\" emr-resource=\"j-DQBCCW9O0C3T\n\" application-id=\"application_1749011983129_0002\">Link</a></td><td><a target=\"_blank\" href=\"http://ip-172-31-75-248.ec2.internal:8042/node/containerlogs/container_1749011983129_0002_01_000001/livy\">Link</a></td><td>None</td><td>✔</td></tr></tbody></table>"
      ],
      "text/plain": [
       "<IPython.core.display.HTML object>"
      ]
     },
     "metadata": {},
     "output_type": "display_data"
    },
    {
     "data": {
      "application/vnd.jupyter.widget-view+json": {
       "model_id": "",
       "version_major": 2,
       "version_minor": 0
      },
      "text/plain": [
       "FloatProgress(value=0.0, bar_style='info', description='Progress:', layout=Layout(height='25px', width='50%'),…"
      ]
     },
     "metadata": {},
     "output_type": "display_data"
    },
    {
     "name": "stdout",
     "output_type": "stream",
     "text": [
      "SparkSession available as 'spark'.\n"
     ]
    },
    {
     "data": {
      "application/vnd.jupyter.widget-view+json": {
       "model_id": "",
       "version_major": 2,
       "version_minor": 0
      },
      "text/plain": [
       "FloatProgress(value=0.0, bar_style='info', description='Progress:', layout=Layout(height='25px', width='50%'),…"
      ]
     },
     "metadata": {},
     "output_type": "display_data"
    },
    {
     "name": "stdout",
     "output_type": "stream",
     "text": [
      "<pyspark.sql.session.SparkSession object at 0x7f6794f12490>"
     ]
    }
   ],
   "source": [
    "spark"
   ]
  },
  {
   "cell_type": "code",
   "execution_count": 2,
   "id": "ca597256-06ea-41a4-9b12-656ec9023aab",
   "metadata": {
    "execution": {
     "iopub.execute_input": "2025-06-04T05:03:17.410657Z",
     "iopub.status.busy": "2025-06-04T05:03:17.410220Z",
     "iopub.status.idle": "2025-06-04T05:03:26.731909Z",
     "shell.execute_reply": "2025-06-04T05:03:26.731241Z",
     "shell.execute_reply.started": "2025-06-04T05:03:17.410611Z"
    },
    "tags": []
   },
   "outputs": [
    {
     "data": {
      "application/vnd.jupyter.widget-view+json": {
       "model_id": "87594ccdb410427097b3f91809f204cf",
       "version_major": 2,
       "version_minor": 0
      },
      "text/plain": [
       "VBox()"
      ]
     },
     "metadata": {},
     "output_type": "display_data"
    },
    {
     "data": {
      "application/vnd.jupyter.widget-view+json": {
       "model_id": "",
       "version_major": 2,
       "version_minor": 0
      },
      "text/plain": [
       "FloatProgress(value=0.0, bar_style='info', description='Progress:', layout=Layout(height='25px', width='50%'),…"
      ]
     },
     "metadata": {},
     "output_type": "display_data"
    }
   ],
   "source": [
    "# 1. Leer los datos desde S3 (asumiendo CSV)\n",
    "df = spark.read.option(\"header\", \"true\").csv(\"s3://final-gizmo/headlines/final/periodico=*/year=*/month=*/day=*/*.csv\")"
   ]
  },
  {
   "cell_type": "code",
   "execution_count": 3,
   "id": "bd3cea93-6705-4c50-97c3-161f20b9b7c9",
   "metadata": {
    "execution": {
     "iopub.execute_input": "2025-06-04T05:03:36.968466Z",
     "iopub.status.busy": "2025-06-04T05:03:36.968245Z",
     "iopub.status.idle": "2025-06-04T05:03:37.736516Z",
     "shell.execute_reply": "2025-06-04T05:03:37.735717Z",
     "shell.execute_reply.started": "2025-06-04T05:03:36.968442Z"
    },
    "tags": []
   },
   "outputs": [
    {
     "data": {
      "application/vnd.jupyter.widget-view+json": {
       "model_id": "7ca8c33e0e92497096d1a467b07ec5b4",
       "version_major": 2,
       "version_minor": 0
      },
      "text/plain": [
       "VBox()"
      ]
     },
     "metadata": {},
     "output_type": "display_data"
    },
    {
     "data": {
      "application/vnd.jupyter.widget-view+json": {
       "model_id": "",
       "version_major": 2,
       "version_minor": 0
      },
      "text/plain": [
       "FloatProgress(value=0.0, bar_style='info', description='Progress:', layout=Layout(height='25px', width='50%'),…"
      ]
     },
     "metadata": {},
     "output_type": "display_data"
    },
    {
     "name": "stdout",
     "output_type": "stream",
     "text": [
      "+----------+--------------------+--------------------+--------------------+\n",
      "|     fecha|           categoria|             titular|              enlace|\n",
      "+----------+--------------------+--------------------+--------------------+\n",
      "|2025-06-03|Unidad investigativa|Ubicación secreta...|https://www.eltie...|\n",
      "|2025-06-03|Unidad investigativa|Procuraduría abre...|https://www.eltie...|\n",
      "|2025-06-03|    Justicia/Delitos|Fiscalía imputará...|https://www.eltie...|\n",
      "|2025-06-03| Mundo/Eeuu y canada|Estados Unidos du...|https://www.eltie...|\n",
      "|2025-06-03|Colombia/Otras ci...|Mamá de Tatiana H...|https://www.eltie...|\n",
      "|2025-06-03|Politica/Partidos...|¿Claudia López, c...|https://www.eltie...|\n",
      "|2025-06-03|Unidad investigativa|Los señalamientos...|https://www.eltie...|\n",
      "|2025-06-03|              Bogota|La hipótesis sobr...|https://www.eltie...|\n",
      "|2025-06-03|Unidad investigativa|Piden a firma de ...|https://www.eltie...|\n",
      "|2025-06-03|        Mundo/Europa|Drones, submarino...|https://www.eltie...|\n",
      "|2025-06-03| Mundo/Eeuu y canada|Donald Trump crea...|https://www.eltie...|\n",
      "|2025-06-03| Mundo/Eeuu y canada|Elon Musk sube el...|https://www.eltie...|\n",
      "|2025-06-03|Deportes/Futbol i...|Néstor Lorenzo, f...|https://www.eltie...|\n",
      "|2025-06-03|Justicia/Paz y de...|'Las que mandan s...|https://www.eltie...|\n",
      "|2025-06-03|                Vida|Panamá, naturalez...|https://www.eltie...|\n",
      "|2025-06-03|            Politica|¿Petro 'ha violad...|https://www.eltie...|\n",
      "|2025-06-03|   Economia/Sectores|¿Todavía no sabe ...|https://www.eltie...|\n",
      "|2025-06-03|Deportes/Futbol c...|En medio de las p...|https://www.eltie...|\n",
      "|2025-06-03|              Bogota|TransMilenio entr...|https://www.eltie...|\n",
      "|2025-06-03|   Opinion/Editorial|   Jóvenes en ascuas|https://www.eltie...|\n",
      "+----------+--------------------+--------------------+--------------------+\n",
      "only showing top 20 rows"
     ]
    }
   ],
   "source": [
    "df.show()"
   ]
  },
  {
   "cell_type": "code",
   "execution_count": 4,
   "id": "90a637a6-5926-4a70-97bb-4e5c70cd1bd6",
   "metadata": {
    "execution": {
     "iopub.execute_input": "2025-06-04T05:03:41.044765Z",
     "iopub.status.busy": "2025-06-04T05:03:41.044542Z",
     "iopub.status.idle": "2025-06-04T05:03:41.309383Z",
     "shell.execute_reply": "2025-06-04T05:03:41.308630Z",
     "shell.execute_reply.started": "2025-06-04T05:03:41.044740Z"
    },
    "tags": []
   },
   "outputs": [
    {
     "data": {
      "application/vnd.jupyter.widget-view+json": {
       "model_id": "b0879e5ce48e4f2f80cb0955d0605253",
       "version_major": 2,
       "version_minor": 0
      },
      "text/plain": [
       "VBox()"
      ]
     },
     "metadata": {},
     "output_type": "display_data"
    },
    {
     "data": {
      "application/vnd.jupyter.widget-view+json": {
       "model_id": "",
       "version_major": 2,
       "version_minor": 0
      },
      "text/plain": [
       "FloatProgress(value=0.0, bar_style='info', description='Progress:', layout=Layout(height='25px', width='50%'),…"
      ]
     },
     "metadata": {},
     "output_type": "display_data"
    }
   ],
   "source": [
    "# 2. Preprocesamiento básico\n",
    "from pyspark.sql.functions import col, lower, regexp_replace\n",
    "\n",
    "df_clean = df.select(\n",
    "    col(\"categoria\").alias(\"label\"),\n",
    "    lower(regexp_replace(col(\"titular\"), \"[^a-zA-ZáéíóúñÁÉÍÓÚÑ ]\", \"\")).alias(\"clean_text\")\n",
    ").na.drop()"
   ]
  },
  {
   "cell_type": "code",
   "execution_count": 5,
   "id": "cc66520d-1b43-44b6-a13c-f7acd25b5836",
   "metadata": {
    "execution": {
     "iopub.execute_input": "2025-06-04T05:03:43.781738Z",
     "iopub.status.busy": "2025-06-04T05:03:43.781512Z",
     "iopub.status.idle": "2025-06-04T05:03:44.549601Z",
     "shell.execute_reply": "2025-06-04T05:03:44.548894Z",
     "shell.execute_reply.started": "2025-06-04T05:03:43.781713Z"
    },
    "tags": []
   },
   "outputs": [
    {
     "data": {
      "application/vnd.jupyter.widget-view+json": {
       "model_id": "50a8874b3a1a46f7a45eb3595d11d428",
       "version_major": 2,
       "version_minor": 0
      },
      "text/plain": [
       "VBox()"
      ]
     },
     "metadata": {},
     "output_type": "display_data"
    },
    {
     "data": {
      "application/vnd.jupyter.widget-view+json": {
       "model_id": "",
       "version_major": 2,
       "version_minor": 0
      },
      "text/plain": [
       "FloatProgress(value=0.0, bar_style='info', description='Progress:', layout=Layout(height='25px', width='50%'),…"
      ]
     },
     "metadata": {},
     "output_type": "display_data"
    }
   ],
   "source": [
    "# 3. Transformaciones de texto (TF-IDF)\n",
    "from pyspark.ml.feature import Tokenizer, StopWordsRemover, HashingTF, IDF, StringIndexer\n",
    "from pyspark.ml.classification import LogisticRegression\n",
    "from pyspark.ml import Pipeline\n",
    "\n",
    "tokenizer = Tokenizer(inputCol=\"clean_text\", outputCol=\"words\")\n",
    "remover = StopWordsRemover(inputCol=\"words\", outputCol=\"filtered_words\")\n",
    "hashingTF = HashingTF(inputCol=\"filtered_words\", outputCol=\"rawFeatures\", numFeatures=10000)\n",
    "idf = IDF(inputCol=\"rawFeatures\", outputCol=\"features\")\n",
    "indexer = StringIndexer(inputCol=\"label\", outputCol=\"labelIndex\")\n",
    "\n",
    "lr = LogisticRegression(featuresCol=\"features\", labelCol=\"labelIndex\", maxIter=10)\n",
    "\n",
    "pipeline = Pipeline(stages=[tokenizer, remover, hashingTF, idf, indexer, lr])\n"
   ]
  },
  {
   "cell_type": "code",
   "execution_count": 6,
   "id": "2b623e39-5488-485e-9c4d-19de448e984d",
   "metadata": {
    "execution": {
     "iopub.execute_input": "2025-06-04T05:03:46.720947Z",
     "iopub.status.busy": "2025-06-04T05:03:46.720721Z",
     "iopub.status.idle": "2025-06-04T05:04:02.053447Z",
     "shell.execute_reply": "2025-06-04T05:04:02.052826Z",
     "shell.execute_reply.started": "2025-06-04T05:03:46.720920Z"
    },
    "tags": []
   },
   "outputs": [
    {
     "data": {
      "application/vnd.jupyter.widget-view+json": {
       "model_id": "cae82886d47e47c69a7cfb3cde917794",
       "version_major": 2,
       "version_minor": 0
      },
      "text/plain": [
       "VBox()"
      ]
     },
     "metadata": {},
     "output_type": "display_data"
    },
    {
     "data": {
      "application/vnd.jupyter.widget-view+json": {
       "model_id": "",
       "version_major": 2,
       "version_minor": 0
      },
      "text/plain": [
       "FloatProgress(value=0.0, bar_style='info', description='Progress:', layout=Layout(height='25px', width='50%'),…"
      ]
     },
     "metadata": {},
     "output_type": "display_data"
    }
   ],
   "source": [
    "# 4. Entrenamiento del modelo\n",
    "model = pipeline.fit(df_clean)"
   ]
  },
  {
   "cell_type": "code",
   "execution_count": 7,
   "id": "8a23ab47-13e7-4b24-94e4-1551ee73f3ec",
   "metadata": {
    "execution": {
     "iopub.execute_input": "2025-06-04T05:04:04.090256Z",
     "iopub.status.busy": "2025-06-04T05:04:04.090036Z",
     "iopub.status.idle": "2025-06-04T05:04:05.364451Z",
     "shell.execute_reply": "2025-06-04T05:04:05.363724Z",
     "shell.execute_reply.started": "2025-06-04T05:04:04.090232Z"
    },
    "tags": []
   },
   "outputs": [
    {
     "data": {
      "application/vnd.jupyter.widget-view+json": {
       "model_id": "6227a65cd46744518db903b263167264",
       "version_major": 2,
       "version_minor": 0
      },
      "text/plain": [
       "VBox()"
      ]
     },
     "metadata": {},
     "output_type": "display_data"
    },
    {
     "data": {
      "application/vnd.jupyter.widget-view+json": {
       "model_id": "",
       "version_major": 2,
       "version_minor": 0
      },
      "text/plain": [
       "FloatProgress(value=0.0, bar_style='info', description='Progress:', layout=Layout(height='25px', width='50%'),…"
      ]
     },
     "metadata": {},
     "output_type": "display_data"
    },
    {
     "name": "stdout",
     "output_type": "stream",
     "text": [
      "+---------------------------------------------------------------------------------------------------------------+----------+-----------------------------------------------------------------------------------------------------------------------------------------------------------------------------------------------------------------------------------------------------------------------------------------------------------------------------------------------------------------------------------------------------------------------------------------------------------------------------------------------------------------------------------------------------------------------------------------------------------------------------------------------------------------------------------------------------------------------------------------------------------------------------------------------------------------------------------------------------------+\n",
      "|clean_text                                                                                                     |prediction|probability                                                                                                                                                                                                                                                                                                                                                                                                                                                                                                                                                                                                                                                                                                                                                                                                                                                |\n",
      "+---------------------------------------------------------------------------------------------------------------+----------+-----------------------------------------------------------------------------------------------------------------------------------------------------------------------------------------------------------------------------------------------------------------------------------------------------------------------------------------------------------------------------------------------------------------------------------------------------------------------------------------------------------------------------------------------------------------------------------------------------------------------------------------------------------------------------------------------------------------------------------------------------------------------------------------------------------------------------------------------------------+\n",
      "|ubicacin secreta carros de alta gama y tusi lo que se ha hallado en fiesta que termin en masacre               |3.0       |[1.1221898998240507E-5,9.309347370752104E-6,1.5928357496813823E-5,0.9996947013085682,1.7343030210711225E-5,2.652568776735079E-5,1.0542799083563662E-5,9.562770651143311E-6,8.522113652002105E-6,7.665766391707058E-6,7.362216064560981E-6,8.473176294069639E-6,7.653626915562658E-6,8.46742158578654E-6,7.071328491412458E-6,6.119851609315402E-6,5.913950367523778E-6,5.911346736324356E-6,5.615205076375496E-6,6.229621489199894E-6,6.9743355355917805E-6,6.791011785649011E-6,4.795642251891532E-6,6.513206071761338E-6,7.805024846905186E-6,5.9647845710436214E-6,6.2218063754598815E-6,6.363318811364145E-6,6.087542535298885E-6,5.974304959059409E-6,6.153856236761041E-6,6.106229967522213E-6,6.6763917717607805E-6,6.28956320061406E-6,7.267408256474992E-6,5.707590055454162E-6,6.327605448290489E-6,5.39136535785455E-6,6.4481871411170364E-6]   |\n",
      "|procuradura abre investigacin contra ricardo roa por compra del apartamento  e indaga contratos                |3.0       |[1.306616988220515E-5,1.0977552405988918E-5,1.0428531902454122E-5,0.9997095263280028,8.903752298978559E-6,1.0058400763525296E-5,1.2946473410506E-5,1.2534400608242904E-5,8.5378899581747E-6,7.686814144974384E-6,1.0009094502187143E-5,8.954940895297673E-6,9.437743928978002E-6,7.6070921838692384E-6,7.757823133133371E-6,6.185137165400301E-6,6.066360020294804E-6,1.2199629283840876E-5,5.911962896081563E-6,5.969094548066966E-6,5.739163438451096E-6,5.836183383355444E-6,8.189806272592775E-6,5.573989052087823E-6,5.553453074608548E-6,6.329409203805888E-6,6.334156131283047E-6,6.010102363270043E-6,5.619090029985092E-6,6.335121222604168E-6,5.804397032833605E-6,5.4300968777327634E-6,5.597547600921103E-6,5.842512949057963E-6,6.655572213292669E-6,6.048161345950459E-6,5.788079850005518E-6,6.35430128435175E-6,6.193664738268748E-6]      |\n",
      "|fiscala imputar dos delitos al exministro ricardo bonilla por el escndalo de la ungrd                          |10.0      |[2.0998029730134395E-5,2.0242762438702346E-5,1.723889369305512E-5,2.6672572162151094E-5,2.2873342109672886E-5,1.3839832015891087E-5,1.7958667337399014E-5,1.882621316972771E-5,1.2794193081996736E-5,1.1857595042217761E-5,0.9995539471600835,1.3583676063903416E-5,1.260786629018505E-5,1.1478155227321405E-5,1.14181606021339E-5,9.241813289190786E-6,9.255407356297718E-6,8.881571189431967E-6,9.078602168294568E-6,8.734303277043376E-6,9.227734890197387E-6,8.314640844039298E-6,8.862398148146431E-6,8.801335640412205E-6,8.704295989507547E-6,9.174115612828463E-6,9.016172317857037E-6,9.002709714447513E-6,8.700316934190924E-6,9.080682335213785E-6,9.324752822867483E-6,8.43317516792937E-6,8.563563907730128E-6,8.843569420634694E-6,9.036543504090533E-6,8.921759199815182E-6,8.871183766338276E-6,9.163801321611659E-6,8.428432133887975E-6] |\n",
      "|estados unidos duplicar aranceles al acero y al aluminio hasta el   estos son los pases ms afectados           |7.0       |[2.7255891995398276E-5,9.049729812677369E-6,2.0053051969618736E-5,1.1657198632150501E-5,9.114848709591097E-6,1.0504749745141999E-5,1.3384706286291008E-5,0.999650181610217,9.72375609439929E-6,8.556821281563867E-6,1.0587362376425627E-5,1.3447125052167352E-5,1.0626906335661845E-5,9.319000759559779E-6,1.1824351523661122E-5,7.138610356168015E-6,6.520947270717456E-6,6.839723999786984E-6,6.427644993131387E-6,7.203054305984681E-6,6.95869688122575E-6,7.648377513551656E-6,6.736032105554266E-6,6.616947532998752E-6,6.071002286968677E-6,7.223398626494828E-6,7.351657312174092E-6,6.45047461297907E-6,1.4030443902824849E-5,5.054466338836028E-6,6.312286379785065E-6,6.000053732750879E-6,7.2673758331946405E-6,7.099064958820174E-6,7.515712912263917E-6,8.527697759239815E-6,6.7115327828313075E-6,6.300022385539357E-6,1.0707664424891426E-5]|\n",
      "|mam de tatiana hernndez desaparecida en cartagena hace nueva denuncia que los inquieta alguien est pagando     |2.0       |[6.996256643930854E-6,8.50024484518543E-6,0.9997888772643547,8.922999484266308E-6,1.1416687565929873E-5,8.220580720122955E-6,7.088805304586315E-6,8.827105870955744E-6,6.170464007229418E-6,6.1023790485883775E-6,5.674093357093973E-6,5.591806896028246E-6,7.510514026433319E-6,6.0095705739659436E-6,5.658388382233412E-6,4.412798083843736E-6,4.620309713007553E-6,4.515008986265621E-6,4.339711546141573E-6,4.513468391358422E-6,4.501541768545128E-6,4.471519702499538E-6,5.0192049918193444E-6,4.3421689658365455E-6,4.194677315065832E-6,4.285860442848092E-6,4.483664039203064E-6,4.338215469026988E-6,4.393063935887189E-6,4.801562742293849E-6,4.556648316787199E-6,4.384232770591052E-6,4.713776852209627E-6,4.432755099744418E-6,4.5180466954416754E-6,4.460517037402607E-6,4.538104578412781E-6,4.443901417530006E-6,5.152080057017575E-6]    |\n",
      "|claudia lpez candidata a la presidencia se unira con el petrismo para derrotar a la derecha? tajante respuesta |13.0      |[1.1758724462263981E-5,1.9515287615552555E-5,1.253934376115802E-5,1.3656408525658825E-5,1.6510312806961045E-5,1.1861046428072848E-5,1.4993091445963557E-5,1.3194141724960844E-5,1.0230846255746434E-5,1.0958752015967338E-5,1.090018854281734E-5,9.650731815954042E-6,9.497993734855985E-6,0.999631427809101,1.1381516258808887E-5,8.177724884456657E-6,7.308319480606518E-6,8.263623434591663E-6,7.72465943750079E-6,7.739109759108954E-6,8.812025081598012E-6,6.97538205502044E-6,6.940814509393516E-6,7.764322939618649E-6,7.97489628453439E-6,8.79061830350815E-6,8.140271458909538E-6,9.055913755532813E-6,7.598960890910703E-6,6.776304846857295E-6,8.356552745315133E-6,8.054336176711192E-6,7.207665855983025E-6,1.2273204254719564E-5,7.836491593657736E-6,7.4489020962637745E-6,8.295092135916248E-6,7.347720003749756E-6,7.0608935199299536E-6] |\n",
      "|los sealamientos de ee uu contra el fiscal de guatemala que orden captura de fiscal colombiana y de velsquez   |3.0       |[1.2349500869383795E-5,1.2566233563304618E-5,1.537631315743111E-5,0.9996825874034576,1.1883067881699286E-5,1.1391570206384086E-5,1.1659717756168776E-5,1.3231624895306434E-5,1.0841475339132493E-5,8.696269578186748E-6,8.766329884986664E-6,8.40516726970213E-6,8.820920021187621E-6,8.882201070535836E-6,7.571086725920181E-6,6.84510496113655E-6,7.360722564468348E-6,6.301312466803081E-6,6.467709282414901E-6,6.8945599245792095E-6,6.945858248104781E-6,6.8246171664415935E-6,6.371976901095655E-6,6.153657041845415E-6,1.5616713160017654E-5,6.664659424773876E-6,6.758593926975362E-6,6.80601798163018E-6,6.365195672876723E-6,4.955005841619342E-6,6.6919258620813705E-6,5.995950603437025E-6,7.465030809271241E-6,6.687946874911878E-6,6.566263769416947E-6,6.108365497968222E-6,6.200245864086799E-6,5.870098001066732E-6,8.05358647558213E-6]  |\n",
      "|la hiptesis sobre caso de auxiliar de vuelo encontrada sin vida en cundinamarca compaero sigue desaparecido    |4.0       |[8.861604373116103E-6,1.1635300351052114E-5,1.059621384272644E-5,1.7178250503793358E-5,0.9997180470674546,1.0047968331464082E-5,9.610183325989307E-6,8.833043264736788E-6,8.076157139630718E-6,8.108097763607235E-6,7.609659709702889E-6,7.0665804151786935E-6,9.907599451340493E-6,7.357107135200501E-6,7.491803194609418E-6,5.9797903186509666E-6,6.256515961122628E-6,5.791477160111241E-6,6.033458382097543E-6,5.54279575445752E-6,6.032178952216422E-6,5.594815018928339E-6,5.38463115258797E-6,5.973313655194617E-6,8.742220505406225E-6,5.626136887219573E-6,5.781305626651341E-6,5.958962628040715E-6,5.937100079674781E-6,6.193787554977712E-6,6.179311482083349E-6,5.970547284308726E-6,5.604166078813875E-6,5.664626005106259E-6,6.004913284484894E-6,5.7621774833509954E-6,5.836893016580319E-6,1.2106355652522156E-5,5.615883818818181E-6]    |\n",
      "|piden a firma de poderoso petrolero revelar cmo pag ricardo roa el lujoso apartamento                          |3.0       |[1.1103554853315083E-5,1.419636981893818E-5,1.0282605461362677E-5,0.99969839673456,1.2119829793249546E-5,1.3668524264937286E-5,9.682864519436917E-6,1.0723355091410501E-5,8.084649550107956E-6,8.245071072192958E-6,1.0374836129150127E-5,7.515997370863687E-6,7.687756834801489E-6,8.202893147834132E-6,1.0418119400554945E-5,6.3516752963905015E-6,6.6433536660597786E-6,6.309140411322969E-6,6.295463785480495E-6,9.038379214313143E-6,6.47773093629587E-6,6.014937034390363E-6,6.591786039710417E-6,1.1228524031956939E-5,5.802554718519142E-6,6.367676117181951E-6,6.436036129373753E-6,6.262896568467829E-6,6.155423388535635E-6,6.893949676505884E-6,6.211109851470641E-6,5.850340412821342E-6,6.21208550584677E-6,6.219359002944097E-6,6.3201043458994844E-6,6.402330548590979E-6,6.395007693811744E-6,6.74584807041275E-6,6.071125684983595E-6]   |\n",
      "|drones submarinos y ojivas nucleares el millonario plan del reino unido para prepararse ante una posible guerra|26.0      |[7.430803757997624E-6,1.4317132831306362E-5,1.1016358590347902E-5,1.180005009572283E-5,1.1941683073809863E-5,1.0752305588566443E-5,1.0603972883174526E-5,1.1690578976013384E-5,8.208984685392632E-6,8.534922494527996E-6,8.805833859784406E-6,7.562805416695721E-6,8.22413636524202E-6,8.984560684365416E-6,9.084596352894368E-6,6.97788423538565E-6,6.197311294125593E-6,6.4091977728993876E-6,6.104034251004331E-6,6.951624138077997E-6,7.23384462276996E-6,6.312930255529524E-6,7.482657116349755E-6,6.389748016566989E-6,5.813069428134865E-6,7.95707877535463E-6,0.9996982794483061,7.118610792177275E-6,6.152152827973133E-6,5.4668817454352245E-6,6.00889966638033E-6,8.629763931294435E-6,6.510066975949819E-6,6.6071206698809966E-6,6.740233376244496E-6,6.260973152993988E-6,6.975438380682663E-6,6.096216841142535E-6,6.366087771300048E-6]     |\n",
      "+---------------------------------------------------------------------------------------------------------------+----------+-----------------------------------------------------------------------------------------------------------------------------------------------------------------------------------------------------------------------------------------------------------------------------------------------------------------------------------------------------------------------------------------------------------------------------------------------------------------------------------------------------------------------------------------------------------------------------------------------------------------------------------------------------------------------------------------------------------------------------------------------------------------------------------------------------------------------------------------------------------+\n",
      "only showing top 10 rows"
     ]
    }
   ],
   "source": [
    "# 5. Aplicar modelo y ver resultados\n",
    "predictions = model.transform(df_clean)\n",
    "predictions.select(\"clean_text\", \"prediction\", \"probability\").show(10, truncate=False)"
   ]
  },
  {
   "cell_type": "code",
   "execution_count": 15,
   "id": "617c41d6-8064-4f95-bac0-161197ad5b33",
   "metadata": {
    "execution": {
     "iopub.execute_input": "2025-06-04T05:15:31.092784Z",
     "iopub.status.busy": "2025-06-04T05:15:31.092557Z",
     "iopub.status.idle": "2025-06-04T05:15:42.401094Z",
     "shell.execute_reply": "2025-06-04T05:15:42.400379Z",
     "shell.execute_reply.started": "2025-06-04T05:15:31.092757Z"
    },
    "tags": []
   },
   "outputs": [
    {
     "data": {
      "application/vnd.jupyter.widget-view+json": {
       "model_id": "5c16d9bce0784e63b9db60ddf0049703",
       "version_major": 2,
       "version_minor": 0
      },
      "text/plain": [
       "VBox()"
      ]
     },
     "metadata": {},
     "output_type": "display_data"
    },
    {
     "data": {
      "application/vnd.jupyter.widget-view+json": {
       "model_id": "",
       "version_major": 2,
       "version_minor": 0
      },
      "text/plain": [
       "FloatProgress(value=0.0, bar_style='info', description='Progress:', layout=Layout(height='25px', width='50%'),…"
      ]
     },
     "metadata": {},
     "output_type": "display_data"
    }
   ],
   "source": [
    "# 6. Guardar resultados en S3 (como CSV o Parquet)\n",
    "predictions.select(\"clean_text\", \"label\", \"prediction\")\\\n",
    "    .write.mode(\"overwrite\").csv(\"s3://final-gizmo/resultados/predicciones.csv\", header=True)"
   ]
  },
  {
   "cell_type": "code",
   "execution_count": 16,
   "id": "12d9521d-b7d7-4713-9001-447bcfab1efa",
   "metadata": {
    "execution": {
     "iopub.execute_input": "2025-06-04T05:16:22.244247Z",
     "iopub.status.busy": "2025-06-04T05:16:22.244022Z",
     "iopub.status.idle": "2025-06-04T05:16:23.524059Z",
     "shell.execute_reply": "2025-06-04T05:16:23.523446Z",
     "shell.execute_reply.started": "2025-06-04T05:16:22.244221Z"
    },
    "tags": []
   },
   "outputs": [
    {
     "data": {
      "application/vnd.jupyter.widget-view+json": {
       "model_id": "da3fd353aca74a429fce3078ae3b6d2b",
       "version_major": 2,
       "version_minor": 0
      },
      "text/plain": [
       "VBox()"
      ]
     },
     "metadata": {},
     "output_type": "display_data"
    },
    {
     "data": {
      "application/vnd.jupyter.widget-view+json": {
       "model_id": "",
       "version_major": 2,
       "version_minor": 0
      },
      "text/plain": [
       "FloatProgress(value=0.0, bar_style='info', description='Progress:', layout=Layout(height='25px', width='50%'),…"
      ]
     },
     "metadata": {},
     "output_type": "display_data"
    }
   ],
   "source": [
    "from pyspark.sql.functions import col\n",
    "\n",
    "predictions.withColumn(\"probability_str\", col(\"probability\").cast(\"string\")) \\\n",
    "    .select(\"clean_text\", \"label\", \"prediction\", \"probability_str\") \\\n",
    "    .write.mode(\"overwrite\").csv(\"s3://final-gizmo/resultados/predicciones_prob.csv\", header=True)"
   ]
  },
  {
   "cell_type": "code",
   "execution_count": 14,
   "id": "772fd95d-4baf-4eef-a0d0-80894b03cf68",
   "metadata": {
    "execution": {
     "iopub.execute_input": "2025-06-04T05:13:43.584787Z",
     "iopub.status.busy": "2025-06-04T05:13:43.584552Z",
     "iopub.status.idle": "2025-06-04T05:13:56.899858Z",
     "shell.execute_reply": "2025-06-04T05:13:56.898937Z",
     "shell.execute_reply.started": "2025-06-04T05:13:43.584761Z"
    },
    "tags": []
   },
   "outputs": [
    {
     "data": {
      "application/vnd.jupyter.widget-view+json": {
       "model_id": "73ce87cf5eba46259d65e45c40243b93",
       "version_major": 2,
       "version_minor": 0
      },
      "text/plain": [
       "VBox()"
      ]
     },
     "metadata": {},
     "output_type": "display_data"
    },
    {
     "data": {
      "application/vnd.jupyter.widget-view+json": {
       "model_id": "",
       "version_major": 2,
       "version_minor": 0
      },
      "text/plain": [
       "FloatProgress(value=0.0, bar_style='info', description='Progress:', layout=Layout(height='25px', width='50%'),…"
      ]
     },
     "metadata": {},
     "output_type": "display_data"
    }
   ],
   "source": [
    "predictions.write.mode(\"overwrite\").parquet(\"s3://final-gizmo/resultados/predicciones_parquet/\")"
   ]
  }
 ],
 "metadata": {
  "kernelspec": {
   "display_name": "PySpark",
   "language": "python",
   "name": "pysparkkernel"
  },
  "language_info": {
   "codemirror_mode": {
    "name": "python",
    "version": 3
   },
   "file_extension": ".py",
   "mimetype": "text/x-python",
   "name": "pyspark",
   "pygments_lexer": "python3"
  }
 },
 "nbformat": 4,
 "nbformat_minor": 5
}
